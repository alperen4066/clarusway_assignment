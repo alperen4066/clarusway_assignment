{
  "nbformat": 4,
  "nbformat_minor": 0,
  "metadata": {
    "colab": {
      "name": "Statistics - Assignment 4 (Probability Distributions).ipynb",
      "provenance": [],
      "collapsed_sections": []
    },
    "kernelspec": {
      "name": "python3",
      "display_name": "Python 3"
    },
    "language_info": {
      "name": "python"
    }
  },
  "cells": [
    {
      "cell_type": "code",
      "execution_count": null,
      "metadata": {
        "id": "e_4LHNl4bmUz"
      },
      "outputs": [],
      "source": [
        "import numpy as np\n",
        "import scipy.stats as stats\n"
      ]
    },
    {
      "cell_type": "markdown",
      "source": [
        "A salesperson has found that the probability of a sale on a single contact is approximately .3. If the salesperson contacts 10 prospects, what is the approximate probability of making at least one sale?"
      ],
      "metadata": {
        "id": "TFCSYMueb1-W"
      }
    },
    {
      "cell_type": "code",
      "source": [
        "#1-1\n",
        "p = 0.3\n",
        "n = 10\n",
        "at_least_one = 1 - stats.binom.cdf(0, n, p)\n",
        "at_least_one"
      ],
      "metadata": {
        "colab": {
          "base_uri": "https://localhost:8080/"
        },
        "id": "X9Fkp7dKbzLh",
        "outputId": "2d2f7402-ac5d-494c-cd2a-1b97babc26f1"
      },
      "execution_count": null,
      "outputs": [
        {
          "output_type": "execute_result",
          "data": {
            "text/plain": [
              "0.9717524751000001"
            ]
          },
          "metadata": {},
          "execution_count": 2
        }
      ]
    },
    {
      "cell_type": "code",
      "source": [
        "#1-1-i- at least 7 head\n",
        "p = 0.5\n",
        "n = 10\n",
        "b = stats.binom(n, p)\n",
        "res = 1 - b.cdf(6)\n",
        "res"
      ],
      "metadata": {
        "colab": {
          "base_uri": "https://localhost:8080/"
        },
        "id": "ypy8vI54cTU5",
        "outputId": "e851861d-56bb-446f-df5d-fef3b8d943e1"
      },
      "execution_count": null,
      "outputs": [
        {
          "output_type": "execute_result",
          "data": {
            "text/plain": [
              "0.171875"
            ]
          },
          "metadata": {},
          "execution_count": 17
        }
      ]
    },
    {
      "cell_type": "code",
      "source": [
        "#1-1-ii- exactly 7 heads\n",
        "p = 0.5\n",
        "n = 10\n",
        "c = stats.binom(n, p)\n",
        "res = c.pmf(7)\n",
        "res"
      ],
      "metadata": {
        "colab": {
          "base_uri": "https://localhost:8080/"
        },
        "id": "qDiXaE_acUks",
        "outputId": "572564fb-be17-4aba-96c8-bf89fb2c9d3b"
      },
      "execution_count": null,
      "outputs": [
        {
          "output_type": "execute_result",
          "data": {
            "text/plain": [
              "0.11718750000000014"
            ]
          },
          "metadata": {},
          "execution_count": 16
        }
      ]
    },
    {
      "cell_type": "code",
      "source": [
        "#1-1-(iii)at most seven heads\n",
        "p = 0.5\n",
        "n = 10\n",
        "c = stats.binom(n, p)\n",
        "res = c.cdf(7)\n",
        "res"
      ],
      "metadata": {
        "colab": {
          "base_uri": "https://localhost:8080/"
        },
        "id": "_lkbQ06AcVyo",
        "outputId": "05b5d936-edd3-4900-8163-47d8c3dff51b"
      },
      "execution_count": null,
      "outputs": [
        {
          "output_type": "execute_result",
          "data": {
            "text/plain": [
              "0.9453125"
            ]
          },
          "metadata": {},
          "execution_count": 15
        }
      ]
    },
    {
      "cell_type": "markdown",
      "source": [
        "2- The cycle time for trucks hauling concrete to a highway construction site is uniformly distributed over the interval 50 to 70 minutes. What is the probability that the cycle time exceeds 65 minutes  if it is known that the cycle time exceeds 55 minutes?"
      ],
      "metadata": {
        "id": "Zq4xESbAcZeM"
      }
    },
    {
      "cell_type": "code",
      "source": [
        "d =stats.uniform(50, 20)\n",
        "res = (1- d.cdf(65))/(1-d.cdf(55))\n",
        "res"
      ],
      "metadata": {
        "colab": {
          "base_uri": "https://localhost:8080/"
        },
        "id": "-k_buy6OcY12",
        "outputId": "4c947ca8-699e-40a3-cb54-3780b926a743"
      },
      "execution_count": null,
      "outputs": [
        {
          "output_type": "execute_result",
          "data": {
            "text/plain": [
              "0.3333333333333333"
            ]
          },
          "metadata": {},
          "execution_count": 14
        }
      ]
    },
    {
      "cell_type": "markdown",
      "source": [
        "EXERCISE 3. 1- The width of bolts of fabric is normally distributed with mean 950 mm (millimeters) and standard deviation 10 mm. What is the probability that a randomly chosen bolt has a width of between 947 and 958mm?\n"
      ],
      "metadata": {
        "id": "X66v7pPRce_e"
      }
    },
    {
      "cell_type": "code",
      "source": [
        "mean = 950\n",
        "std = 10\n",
        "e = stats.norm(950, 10)\n",
        "res = e.cdf(958) - e.cdf(947)\n",
        "res"
      ],
      "metadata": {
        "colab": {
          "base_uri": "https://localhost:8080/"
        },
        "id": "P9XWCTDscgrh",
        "outputId": "f78b8551-a56a-49d6-de71-e5cf72f31da8"
      },
      "execution_count": null,
      "outputs": [
        {
          "output_type": "execute_result",
          "data": {
            "text/plain": [
              "0.406056023605556"
            ]
          },
          "metadata": {},
          "execution_count": 13
        }
      ]
    },
    {
      "cell_type": "markdown",
      "source": [
        "3.2-What is the appropriate value for C such that a randomly chosen bolt has a width less than C with probability .8531?"
      ],
      "metadata": {
        "id": "b2YogiUfckGm"
      }
    },
    {
      "cell_type": "code",
      "source": [
        "res = e.ppf(0.8531)\n",
        "res"
      ],
      "metadata": {
        "colab": {
          "base_uri": "https://localhost:8080/"
        },
        "id": "G8K2Xl9PciWK",
        "outputId": "9a1fcfa3-9cfc-4593-e69e-5b07afbc0cb0"
      },
      "execution_count": null,
      "outputs": [
        {
          "output_type": "execute_result",
          "data": {
            "text/plain": [
              "960.4982190962642"
            ]
          },
          "metadata": {},
          "execution_count": 12
        }
      ]
    },
    {
      "cell_type": "markdown",
      "source": [
        "EXERCISE 4. Suppose scores on exams in statistics are normally distributed with an unknown population mean and a population standard deviation of 3 points. A random sample of 36 scores is taken and gives a sample mean (sample mean score) of 68. Find a confidence interval estimate for the population mean exam score (the mean score on all exams). Find a 90% confidence interval for the true (population) mean of statistics exam scores."
      ],
      "metadata": {
        "id": "6PeVul-rco7A"
      }
    },
    {
      "cell_type": "code",
      "source": [
        "#sem = std/np.sqrt(n)\n",
        "f = stats.norm.interval(0.9, 68, 3/36**0.5)\n",
        "f"
      ],
      "metadata": {
        "colab": {
          "base_uri": "https://localhost:8080/"
        },
        "id": "nA-HOtMvcm4Z",
        "outputId": "0a816614-294a-4b34-f0b5-f481966ab5af"
      },
      "execution_count": null,
      "outputs": [
        {
          "output_type": "execute_result",
          "data": {
            "text/plain": [
              "(67.17757318652427, 68.82242681347573)"
            ]
          },
          "metadata": {},
          "execution_count": 9
        }
      ]
    },
    {
      "cell_type": "markdown",
      "source": [
        "EXERCISE 5\n",
        "What is the normal body temperature for healthy humans? A random sample of 130 healthy human body temperatures provided by Allen Shoemaker yielded 98.25 degrees and standard deviation 0.73 degrees. Give a 99% confidence interval for the average body temperature of healthy people."
      ],
      "metadata": {
        "id": "yK4CuLitctG4"
      }
    },
    {
      "cell_type": "code",
      "source": [
        "g = stats.norm.interval(0.99, 98.25, 0.73/np.sqrt(130))\n",
        "g"
      ],
      "metadata": {
        "colab": {
          "base_uri": "https://localhost:8080/"
        },
        "id": "aZUxQoG4crLW",
        "outputId": "a23942ef-e801-4c7f-bca8-5f639b24ac24"
      },
      "execution_count": null,
      "outputs": [
        {
          "output_type": "execute_result",
          "data": {
            "text/plain": [
              "(98.08508192246582, 98.41491807753418)"
            ]
          },
          "metadata": {},
          "execution_count": 10
        }
      ]
    }
  ]
}